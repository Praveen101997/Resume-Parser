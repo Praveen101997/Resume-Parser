{
  "nbformat": 4,
  "nbformat_minor": 0,
  "metadata": {
    "colab": {
      "name": "NER Model.ipynb",
      "provenance": [],
      "collapsed_sections": [],
      "include_colab_link": true
    },
    "kernelspec": {
      "display_name": "Python 3",
      "name": "python3"
    }
  },
  "cells": [
    {
      "cell_type": "markdown",
      "metadata": {
        "id": "view-in-github",
        "colab_type": "text"
      },
      "source": [
        "<a href=\"https://colab.research.google.com/github/Praveen101997/Resume-Parser/blob/main/NER_Model.ipynb\" target=\"_parent\"><img src=\"https://colab.research.google.com/assets/colab-badge.svg\" alt=\"Open In Colab\"/></a>"
      ]
    },
    {
      "cell_type": "code",
      "metadata": {
        "id": "ea25oEqPV9LT"
      },
      "source": [
        "import spacy\r\n",
        "import pickle\r\n",
        "import random\r\n",
        "train_data=pickle.load(open('train_data.pkl','rb'))\r\n",
        "nlp = spacy.blank('en')\r\n",
        "global ner\r\n",
        "def train_model(train_data):\r\n",
        "    if 'ner' not in nlp.pipe_names:\r\n",
        "        ner = nlp.create_pipe('ner')\r\n",
        "        nlp.add_pipe(ner, last = True)\r\n",
        "    \r\n",
        "    for _, annotation in train_data:\r\n",
        "        for ent in annotation['entities']:\r\n",
        "            ner.add_label(ent[2])\r\n",
        "            \r\n",
        "    \r\n",
        "    other_pipes = [pipe for pipe in nlp.pipe_names if pipe != 'ner']\r\n",
        "    with nlp.disable_pipes(*other_pipes):  # only train NER\r\n",
        "        optimizer = nlp.begin_training()\r\n",
        "        for itn in range(30):\r\n",
        "            print(\"Statring iteration \" + str(itn))\r\n",
        "            random.shuffle(train_data)\r\n",
        "            losses = {}\r\n",
        "            index = 0\r\n",
        "            for text, annotations in train_data:\r\n",
        "                try:\r\n",
        "                    nlp.update(\r\n",
        "                        [text],  # batch of texts\r\n",
        "                        [annotations],  # batch of annotations\r\n",
        "                        drop=0.2,  # dropout - make it harder to memorise data\r\n",
        "                        sgd=optimizer,  # callable to update weights\r\n",
        "                        losses=losses)\r\n",
        "                except Exception as e:\r\n",
        "                    pass\r\n",
        "                \r\n",
        "            print(losses)\r\n",
        "\r\n",
        "\r\n",
        "    "
      ],
      "execution_count": null,
      "outputs": []
    },
    {
      "cell_type": "code",
      "metadata": {
        "id": "yrY4QkCRwWQa"
      },
      "source": [
        "import pandas as pd\r\n",
        "import json\r\n",
        "df = pd.read_json('extra_data.json', lines=True)\r\n",
        "del df[\"extras\"]\r\n",
        "extra_data = df.values.tolist()\r\n",
        "\r\n",
        "format_data=[]\r\n",
        "for content,annotation in extra_data:\r\n",
        "  entities=[]\r\n",
        "  content=content.replace(\"\\n\",\" \")\r\n",
        "  content=content.replace(\"\\r\",\" \" )\r\n",
        "  content=content.replace(\"\\\\u\",\" \")\r\n",
        "  for j in annotation:\r\n",
        "    if  len(j['points'])>0 and len(j['label'])>0: \r\n",
        "      entities.append((j['points'][0]['start'],j['points'][0]['end'],j['label'][0]))\r\n",
        "  #print(entities)\r\n",
        "  format_data.append( (content,{'entities':entities}) )\r\n",
        "#print(json.dumps(format_data,indent=2))"
      ],
      "execution_count": null,
      "outputs": []
    },
    {
      "cell_type": "code",
      "metadata": {
        "id": "FKPtp4kgoCW-"
      },
      "source": [
        "train_data=train_data+format_data"
      ],
      "execution_count": null,
      "outputs": []
    },
    {
      "cell_type": "code",
      "metadata": {
        "colab": {
          "base_uri": "https://localhost:8080/"
        },
        "id": "buMkx-704u1h",
        "outputId": "7347da1f-ad94-408a-a2ef-53502446f284"
      },
      "source": [
        "len(train_data)"
      ],
      "execution_count": null,
      "outputs": [
        {
          "output_type": "execute_result",
          "data": {
            "text/plain": [
              "420"
            ]
          },
          "metadata": {
            "tags": []
          },
          "execution_count": 5
        }
      ]
    },
    {
      "cell_type": "code",
      "metadata": {
        "colab": {
          "base_uri": "https://localhost:8080/"
        },
        "id": "oVjpSKDiYbSf",
        "outputId": "c652c23e-e7a3-4806-9e6e-36b1a57855d9"
      },
      "source": [
        "train_model(train_data)"
      ],
      "execution_count": null,
      "outputs": [
        {
          "output_type": "stream",
          "text": [
            "Statring iteration 0\n",
            "{'ner': 28993.67652857202}\n",
            "Statring iteration 1\n",
            "{'ner': 26578.33014611069}\n",
            "Statring iteration 2\n",
            "{'ner': 20964.24197841098}\n",
            "Statring iteration 3\n",
            "{'ner': 14933.621164446096}\n",
            "Statring iteration 4\n",
            "{'ner': 19915.35815339363}\n",
            "Statring iteration 5\n",
            "{'ner': 12334.61604847234}\n",
            "Statring iteration 6\n",
            "{'ner': 16183.549083070931}\n",
            "Statring iteration 7\n",
            "{'ner': 11500.50355140333}\n",
            "Statring iteration 8\n",
            "{'ner': 11061.677537497482}\n",
            "Statring iteration 9\n",
            "{'ner': 10925.032750417746}\n",
            "Statring iteration 10\n",
            "{'ner': 9359.860284935594}\n",
            "Statring iteration 11\n",
            "{'ner': 10048.204334434224}\n",
            "Statring iteration 12\n",
            "{'ner': 10746.138554643574}\n",
            "Statring iteration 13\n",
            "{'ner': 7737.391034705039}\n",
            "Statring iteration 14\n",
            "{'ner': 9104.543259607195}\n",
            "Statring iteration 15\n",
            "{'ner': 11178.408922839284}\n",
            "Statring iteration 16\n",
            "{'ner': 6727.946111076254}\n",
            "Statring iteration 17\n",
            "{'ner': 8773.53539515213}\n",
            "Statring iteration 18\n",
            "{'ner': 6722.864942823558}\n",
            "Statring iteration 19\n",
            "{'ner': 5930.274965177706}\n",
            "Statring iteration 20\n",
            "{'ner': 6982.500279123903}\n",
            "Statring iteration 21\n",
            "{'ner': 7050.286244727564}\n",
            "Statring iteration 22\n",
            "{'ner': 10765.821373691148}\n",
            "Statring iteration 23\n",
            "{'ner': 5892.093993406854}\n",
            "Statring iteration 24\n",
            "{'ner': 7720.95779229862}\n",
            "Statring iteration 25\n",
            "{'ner': 6297.199127577998}\n",
            "Statring iteration 26\n",
            "{'ner': 7438.850052217176}\n",
            "Statring iteration 27\n",
            "{'ner': 5317.429884251037}\n",
            "Statring iteration 28\n",
            "{'ner': 6445.492730193655}\n",
            "Statring iteration 29\n",
            "{'ner': 5384.812142457385}\n"
          ],
          "name": "stdout"
        }
      ]
    },
    {
      "cell_type": "code",
      "metadata": {
        "id": "j2hptrnGYeKw"
      },
      "source": [
        "nlp.to_disk('nlp_model')"
      ],
      "execution_count": null,
      "outputs": []
    },
    {
      "cell_type": "code",
      "metadata": {
        "id": "PKt1DwYxzAYy"
      },
      "source": [
        "nlp_model=spacy.load('nlp_model')"
      ],
      "execution_count": null,
      "outputs": []
    },
    {
      "cell_type": "code",
      "metadata": {
        "colab": {
          "base_uri": "https://localhost:8080/"
        },
        "id": "z8CdS_Z-bezN",
        "outputId": "437e0d16-7728-4e94-c9be-b61db8085067"
      },
      "source": [
        "doc = nlp_model(train_data[0][0])\r\n",
        "for ent in doc.ents:\r\n",
        "    print(f'{ent.label_.upper():{30}}- {ent.text}')"
      ],
      "execution_count": null,
      "outputs": [
        {
          "output_type": "stream",
          "text": [
            "NAME                          - Abhishek Jha\n",
            "COMPANIES WORKED AT           - Accenture\n",
            "LOCATION                      - Bengaluru\n",
            "DESIGNATION                   - Application Development Associate\n",
            "COMPANIES WORKED AT           - Accenture\n",
            "DEGREE                        - B.E in Information science and engineering\n",
            "COLLEGE NAME                  - B.v.b college of engineering and technology\n",
            "GRADUATION YEAR               - 2017\n",
            "SKILLS                        - C (Less than 1 year), Database (Less than 1 year), Database Management (Less than 1 year), Database Management System (Less than 1 year), Java (Less than 1 year)\n"
          ],
          "name": "stdout"
        }
      ]
    },
    {
      "cell_type": "code",
      "metadata": {
        "colab": {
          "base_uri": "https://localhost:8080/"
        },
        "id": "o_v_gOrdbnn0",
        "outputId": "31a85051-810d-4985-d7ab-bb45560a044d"
      },
      "source": [
        "!pip install PyMuPDF"
      ],
      "execution_count": null,
      "outputs": [
        {
          "output_type": "stream",
          "text": [
            "Collecting PyMuPDF\n",
            "\u001b[?25l  Downloading https://files.pythonhosted.org/packages/48/42/2f6b576292a85512af63ba3298a44c34fb99ac7a1a04fbd9a705c69b1939/PyMuPDF-1.18.7-cp36-cp36m-manylinux2010_x86_64.whl (6.3MB)\n",
            "\u001b[K     |████████████████████████████████| 6.3MB 3.9MB/s \n",
            "\u001b[?25hInstalling collected packages: PyMuPDF\n",
            "Successfully installed PyMuPDF-1.18.7\n"
          ],
          "name": "stdout"
        }
      ]
    },
    {
      "cell_type": "code",
      "metadata": {
        "colab": {
          "background_save": true
        },
        "id": "loLOI04rb38K"
      },
      "source": [
        "import sys, fitz\r\n",
        "fname = 'cv_4.pdf'\r\n",
        "doc = fitz.open(fname)\r\n",
        "text = \"\"\r\n",
        "for page in doc:\r\n",
        "    text = text + str(page.getText())\r\n",
        "\r\n",
        "tx = \" \".join(text.split('\\n'))\r\n",
        "#print(tx)"
      ],
      "execution_count": null,
      "outputs": []
    },
    {
      "cell_type": "code",
      "metadata": {
        "colab": {
          "base_uri": "https://localhost:8080/"
        },
        "id": "o1R29eM5b7g6",
        "outputId": "81c6ea4f-b70a-4908-a61f-ba7bbb9bed50"
      },
      "source": [
        "doc = nlp_model(tx)\r\n",
        "for ent in doc.ents:\r\n",
        "    print(f'{ent.label_.upper():{30}}- {ent.text}')"
      ],
      "execution_count": null,
      "outputs": [
        {
          "output_type": "stream",
          "text": [
            "NAME                          - Alice Clark\n",
            "DESIGNATION                   - AI / Machine Learning\n",
            "LOCATION                      - Delhi\n",
            "DESIGNATION                   - Software Engineer\n",
            "COMPANIES WORKED AT           - Microsoft\n",
            "COMPANIES WORKED AT           - Microsoft\n",
            "COMPANIES WORKED AT           - Microsoft\n",
            "COMPANIES WORKED AT           - Microsoft\n",
            "COLLEGE NAME                  - Indian Institute of Technology – Mumbai\n",
            "SKILLS                        - Machine Learning, Natural Language Processing, and Big Data Handling\n"
          ],
          "name": "stdout"
        }
      ]
    },
    {
      "cell_type": "code",
      "metadata": {
        "colab": {
          "base_uri": "https://localhost:8080/"
        },
        "id": "C4vt2ZMkNdfC",
        "outputId": "05816367-f0b1-4d31-fd3b-f5779c1c9e20"
      },
      "source": [
        "doc=nlp_model(\"Dilliraja Baskaran Tamil Nadu - Email me on Indeed: indeed.com/r/Dilliraja-Baskaran/4a3bc8a35879ce5c  WORK EXPERIENCE  Working in Infosys as a developer and support  Infosys -  May 2015 to Present  Experience in both development project and support project.  EDUCATION  B.E  Panimalar Engineering College  SKILLS  Mainframe,COBOL,JCL,DB2,IMSDB,IMSDC  https://www.indeed.com/r/Dilliraja-Baskaran/4a3bc8a35879ce5c?isid=rex-download&ikw=download-top&co=IN\")\r\n",
        "for ent in doc.ents:\r\n",
        "    print(f'{ent.label_.upper():{30}}- {ent.text}')"
      ],
      "execution_count": null,
      "outputs": [
        {
          "output_type": "stream",
          "text": [
            "NAME                          - Dilliraja Baskaran\n",
            "LOCATION                      - Tamil Nadu\n",
            "EMAIL ADDRESS                 - indeed.com/r/Dilliraja-Baskaran/4a3bc8a35879ce5c\n",
            "DEGREE                        - B.E\n",
            "COLLEGE NAME                  - Panimalar Engineering College\n",
            "SKILLS                        - Mainframe,COBOL,JCL,DB2,IMSDB,IMSDC\n"
          ],
          "name": "stdout"
        }
      ]
    },
    {
      "cell_type": "code",
      "metadata": {
        "colab": {
          "base_uri": "https://localhost:8080/",
          "height": 468
        },
        "id": "9PbiKRJtFKJo",
        "outputId": "4ba97532-0080-45b6-8d5e-9dc2a94b77bd"
      },
      "source": [
        "from spacy import displacy\r\n",
        "\r\n",
        "colors={'NAME':'#aa9cfc','EMAIL ADDRESS':'#A6F80B','DEGREE':'#0BF8CF','SKILLS':'#4200FD'}\r\n",
        "options={'colors':colors}\r\n",
        "displacy.render(doc, style = \"ent\",jupyter = True,options=options)\r\n"
      ],
      "execution_count": null,
      "outputs": [
        {
          "output_type": "display_data",
          "data": {
            "text/html": [
              "<span class=\"tex2jax_ignore\"><div class=\"entities\" style=\"line-height: 2.5; direction: ltr\">\n",
              "<mark class=\"entity\" style=\"background: #aa9cfc; padding: 0.45em 0.6em; margin: 0 0.25em; line-height: 1; border-radius: 0.35em;\">\n",
              "    Alice Clark\n",
              "    <span style=\"font-size: 0.8em; font-weight: bold; line-height: 1; border-radius: 0.35em; text-transform: uppercase; vertical-align: middle; margin-left: 0.5rem\">Name</span>\n",
              "</mark>\n",
              "  \n",
              "<mark class=\"entity\" style=\"background: #ddd; padding: 0.45em 0.6em; margin: 0 0.25em; line-height: 1; border-radius: 0.35em;\">\n",
              "    AI / Machine Learning\n",
              "    <span style=\"font-size: 0.8em; font-weight: bold; line-height: 1; border-radius: 0.35em; text-transform: uppercase; vertical-align: middle; margin-left: 0.5rem\">Designation</span>\n",
              "</mark>\n",
              "    \n",
              "<mark class=\"entity\" style=\"background: #ddd; padding: 0.45em 0.6em; margin: 0 0.25em; line-height: 1; border-radius: 0.35em;\">\n",
              "    Delhi\n",
              "    <span style=\"font-size: 0.8em; font-weight: bold; line-height: 1; border-radius: 0.35em; text-transform: uppercase; vertical-align: middle; margin-left: 0.5rem\">Location</span>\n",
              "</mark>\n",
              ", India Email me on Indeed  •  20+ years of experience in data handling, design, and development  •  Data Warehouse: Data analysis, star/snow flake scema data modelling and design specific to  data warehousing and business intelligence  •  Database: Experience in database designing, scalability, back-up and recovery, writing and  optimizing SQL code and Stored Procedures, creating functions, views, triggers and indexes.  Cloud platform: Worked on Microsoft Azure cloud services like Document DB, SQL Azure,  Stream Analytics, Event hub, Power BI, Web Job, Web App, Power BI, Azure data lake  analytics(U-SQL)  Willing to relocate anywhere    WORK EXPERIENCE  \n",
              "<mark class=\"entity\" style=\"background: #ddd; padding: 0.45em 0.6em; margin: 0 0.25em; line-height: 1; border-radius: 0.35em;\">\n",
              "    Software Engineer\n",
              "    <span style=\"font-size: 0.8em; font-weight: bold; line-height: 1; border-radius: 0.35em; text-transform: uppercase; vertical-align: middle; margin-left: 0.5rem\">Designation</span>\n",
              "</mark>\n",
              "  Microsoft – Bangalore, Karnataka  January 2000 to Present  1. \n",
              "<mark class=\"entity\" style=\"background: #ddd; padding: 0.45em 0.6em; margin: 0 0.25em; line-height: 1; border-radius: 0.35em;\">\n",
              "    Microsoft\n",
              "    <span style=\"font-size: 0.8em; font-weight: bold; line-height: 1; border-radius: 0.35em; text-transform: uppercase; vertical-align: middle; margin-left: 0.5rem\">Companies worked at</span>\n",
              "</mark>\n",
              " Rewards Live dashboards:  Description: - \n",
              "<mark class=\"entity\" style=\"background: #ddd; padding: 0.45em 0.6em; margin: 0 0.25em; line-height: 1; border-radius: 0.35em;\">\n",
              "    Microsoft\n",
              "    <span style=\"font-size: 0.8em; font-weight: bold; line-height: 1; border-radius: 0.35em; text-transform: uppercase; vertical-align: middle; margin-left: 0.5rem\">Companies worked at</span>\n",
              "</mark>\n",
              " rewards is loyalty program that rewards Users for browsing and shopping  online. \n",
              "<mark class=\"entity\" style=\"background: #ddd; padding: 0.45em 0.6em; margin: 0 0.25em; line-height: 1; border-radius: 0.35em;\">\n",
              "    Microsoft\n",
              "    <span style=\"font-size: 0.8em; font-weight: bold; line-height: 1; border-radius: 0.35em; text-transform: uppercase; vertical-align: middle; margin-left: 0.5rem\">Companies worked at</span>\n",
              "</mark>\n",
              " Rewards members can earn points when searching with Bing, browsing with  \n",
              "<mark class=\"entity\" style=\"background: #ddd; padding: 0.45em 0.6em; margin: 0 0.25em; line-height: 1; border-radius: 0.35em;\">\n",
              "    Microsoft\n",
              "    <span style=\"font-size: 0.8em; font-weight: bold; line-height: 1; border-radius: 0.35em; text-transform: uppercase; vertical-align: middle; margin-left: 0.5rem\">Companies worked at</span>\n",
              "</mark>\n",
              " Edge and making purchases at the Xbox Store, the Windows Store and the Microsoft  Store. Plus, user can pick up bonus points for taking daily quizzes and tours on the Microsoft  rewards website. Rewards live dashboards gives a live picture of usage world-wide and by  markets like US, Canada, Australia, new user registration count, top/bottom performing rewards  offers, orders stats and weekly trends of user activities, orders and new user registrations. the  PBI tiles gets refreshed in different frequencies starting from 5 seconds to 30 minutes.  Technology/Tools used    EDUCATION  \n",
              "<mark class=\"entity\" style=\"background: #ddd; padding: 0.45em 0.6em; margin: 0 0.25em; line-height: 1; border-radius: 0.35em;\">\n",
              "    Indian Institute of Technology – Mumbai\n",
              "    <span style=\"font-size: 0.8em; font-weight: bold; line-height: 1; border-radius: 0.35em; text-transform: uppercase; vertical-align: middle; margin-left: 0.5rem\">College Name</span>\n",
              "</mark>\n",
              "  2001    SKILLS  \n",
              "<mark class=\"entity\" style=\"background: #4200FD; padding: 0.45em 0.6em; margin: 0 0.25em; line-height: 1; border-radius: 0.35em;\">\n",
              "    Machine Learning, Natural Language Processing, and Big Data Handling\n",
              "    <span style=\"font-size: 0.8em; font-weight: bold; line-height: 1; border-radius: 0.35em; text-transform: uppercase; vertical-align: middle; margin-left: 0.5rem\">Skills</span>\n",
              "</mark>\n",
              "    ADDITIONAL INFORMATION  Professional Skills  • Excellent analytical, problem solving, communication, knowledge transfer and interpersonal  skills with ability to interact with individuals at all the levels  • Quick learner and maintains cordial relationship with project manager and team members and  good performer both in team and independent job environments  • Positive attitude towards superiors &amp;amp; peers  • Supervised junior developers throughout project lifecycle and provided technical assistance  </div></span>"
            ],
            "text/plain": [
              "<IPython.core.display.HTML object>"
            ]
          },
          "metadata": {
            "tags": []
          }
        }
      ]
    }
  ]
}